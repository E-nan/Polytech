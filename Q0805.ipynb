{
 "cells": [
  {
   "cell_type": "markdown",
   "metadata": {},
   "source": [
    "* ## 첫번째 과제\n",
    "    * ### 두개의 리스트\n",
    "    * ### 딕셔너리로 만들고\n",
    "    * ### 홀수에 해당하는 키 값 추출\n",
    "    * ### values 기준으로 정렬 한 후 출력\n",
    "    * ### a와 z를 제거\n",
    "    * ### 남은 딕셔너리 출력"
   ]
  },
  {
   "cell_type": "code",
   "execution_count": 85,
   "metadata": {},
   "outputs": [],
   "source": [
    "#두개의 리스트\n",
    "A_list = ['a','x','d','y','k','z']\n",
    "B_list = [10,45,21,97,6,15]"
   ]
  },
  {
   "cell_type": "code",
   "execution_count": 86,
   "metadata": {},
   "outputs": [],
   "source": [
    "#딕셔너리로 만들고\n",
    "a = dict(zip(A_list,B_list))"
   ]
  },
  {
   "cell_type": "code",
   "execution_count": 84,
   "metadata": {},
   "outputs": [
    {
     "name": "stdout",
     "output_type": "stream",
     "text": [
      "['x', 'd', 'y', 'z']\n",
      "['x', 'd', 'y', 'z']\n"
     ]
    }
   ],
   "source": [
    "#홀수에 해당하는 키 값 추출\n",
    "b = []\n",
    "for k,v in a.items():\n",
    "    if v%2==1:\n",
    "        b.append(k) \n",
    "print(b)\n",
    "\n",
    "#홀수에 해당하는 키 값 추출(함축)\n",
    "b = [k for k,v in a.items() if v%2==1]\n",
    "print(b)"
   ]
  },
  {
   "cell_type": "markdown",
   "metadata": {},
   "source": [
    "#### 4줄에서 1줄로 함축됨\n",
    "***"
   ]
  },
  {
   "cell_type": "code",
   "execution_count": null,
   "metadata": {},
   "outputs": [],
   "source": [
    "#values 기준으로 정렬 한 후 출력\n",
    "from collections import OrderedDict\n",
    "c = OrderedDict(sorted(a.items(), key=lambda t : t[1]))\n",
    "for x,y in c.items():\n",
    "    print(x,\":\",y)\n",
    "    "
   ]
  },
  {
   "cell_type": "code",
   "execution_count": 75,
   "metadata": {},
   "outputs": [
    {
     "data": {
      "text/plain": [
       "15"
      ]
     },
     "execution_count": 75,
     "metadata": {},
     "output_type": "execute_result"
    }
   ],
   "source": [
    "#a와 z를 제거\n",
    "a.pop('a')\n",
    "a.pop('z')"
   ]
  },
  {
   "cell_type": "code",
   "execution_count": 76,
   "metadata": {},
   "outputs": [
    {
     "name": "stdout",
     "output_type": "stream",
     "text": [
      "{'x': 45, 'd': 21, 'y': 97, 'k': 6}\n"
     ]
    }
   ],
   "source": [
    "#남은 딕셔너리 출력\n",
    "print(a)"
   ]
  },
  {
   "cell_type": "markdown",
   "metadata": {},
   "source": [
    "***\n",
    "## 두번째 과제\n",
    "### 1. 1 부터 100까지 정수중 홀수를 구하고\n",
    "### 2. 홀수 개수를 출력하시오\n",
    "### 3. 홀수 중 50 이상인 것을 찾아서 출력(함축)\n",
    "***"
   ]
  },
  {
   "cell_type": "code",
   "execution_count": 55,
   "metadata": {},
   "outputs": [
    {
     "name": "stdout",
     "output_type": "stream",
     "text": [
      "[1, 3, 5, 7, 9, 11, 13, 15, 17, 19, 21, 23, 25, 27, 29, 31, 33, 35, 37, 39, 41, 43, 45, 47, 49, 51, 53, 55, 57, 59, 61, 63, 65, 67, 69, 71, 73, 75, 77, 79, 81, 83, 85, 87, 89, 91, 93, 95, 97, 99]\n",
      "50\n",
      "[51, 53, 55, 57, 59, 61, 63, 65, 67, 69, 71, 73, 75, 77, 79, 81, 83, 85, 87, 89, 91, 93, 95, 97, 99]\n"
     ]
    }
   ],
   "source": [
    "a=[]\n",
    "b=0\n",
    "for i in range(1,100):\n",
    "    if i%2==1:\n",
    "        a.append(i)\n",
    "        b=b+1\n",
    "print(a)"
   ]
  },
  {
   "cell_type": "markdown",
   "metadata": {},
   "source": [
    "##### a를 리스트로 선언\n",
    "##### b를 0으로 초기화\n",
    "##### for문 -> 1과 100까지 1씩 증가\n",
    "##### if문   -> i를 2로 나눠서 나머지가 1이면 홀수\n",
    "##### append()를 이용해서 리스트 a에 조건에 해당하는 수를 추가\n",
    "##### 홀수의 개수를 파악하기 위해 b의 값을 1씩 증가\n",
    "***"
   ]
  },
  {
   "cell_type": "code",
   "execution_count": 56,
   "metadata": {},
   "outputs": [
    {
     "name": "stdout",
     "output_type": "stream",
     "text": [
      "50\n"
     ]
    }
   ],
   "source": [
    "#2.홀수 개수를 출력\n",
    "print(b)"
   ]
  },
  {
   "cell_type": "code",
   "execution_count": null,
   "metadata": {},
   "outputs": [],
   "source": [
    "#3. 함축\n",
    "c = [i for i in a if i>=50 ]\n",
    "print(c)"
   ]
  },
  {
   "cell_type": "markdown",
   "metadata": {},
   "source": [
    "##### 리스트 a에 있는 요소들중 50보다 큰 수를 리스트c에 추가\n",
    "##### 기존의 for문\n",
    "~~~\n",
    "for i in a:\n",
    "    if i>=50:\n",
    "        c.append(i)\n",
    "~~~\n",
    "##### 3줄 -->  1줄\n",
    "***"
   ]
  },
  {
   "cell_type": "code",
   "execution_count": 57,
   "metadata": {},
   "outputs": [
    {
     "name": "stdout",
     "output_type": "stream",
     "text": [
      "정수를 입력하세요 : 5\n",
      "홀\n"
     ]
    }
   ],
   "source": [
    "#입력한 수가 짝수인지 홀수인지 판별\n",
    "num = int(input(\"정수를 입력하세요 : \"))\n",
    "if num%2==0:\n",
    "    print('짝')\n",
    "else:\n",
    "    print('홀')"
   ]
  }
 ],
 "metadata": {
  "kernelspec": {
   "display_name": "Python 3",
   "language": "python",
   "name": "python3"
  },
  "language_info": {
   "codemirror_mode": {
    "name": "ipython",
    "version": 3
   },
   "file_extension": ".py",
   "mimetype": "text/x-python",
   "name": "python",
   "nbconvert_exporter": "python",
   "pygments_lexer": "ipython3",
   "version": "3.6.4"
  }
 },
 "nbformat": 4,
 "nbformat_minor": 2
}
