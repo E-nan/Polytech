{
 "cells": [
  {
   "cell_type": "code",
   "execution_count": 21,
   "metadata": {},
   "outputs": [
    {
     "name": "stdout",
     "output_type": "stream",
     "text": [
      "[45, 21, 97, 15]\n",
      "k : 6\n",
      "a : 10\n",
      "z : 15\n",
      "d : 21\n",
      "x : 45\n",
      "y : 97\n",
      "{'x': 45, 'd': 21, 'y': 97, 'k': 6}\n"
     ]
    }
   ],
   "source": [
    "#두개의 리스트\n",
    "A_list = ['a','x','d','y','k','z']\n",
    "B_list = [10,45,21,97,6,15]\n",
    "\n",
    "#딕셔너리로 만들고\n",
    "a = dict(zip(A_list,B_list))\n",
    "\n",
    "#홀수에 해당하는 키 값 추출\n",
    "b = []\n",
    "for k,v in a.items():\n",
    "    if v%2==1:\n",
    "        b.append(v) \n",
    "\n",
    "print(b)\n",
    "\n",
    "#values 기준으로 정렬 한 후 출력\n",
    "from collections import OrderedDict\n",
    "c = OrderedDict(sorted(a.items(), key=lambda t : t[1]))\n",
    "for x,y in c.items():\n",
    "    print(x,\":\",y)\n",
    "    \n",
    "#a와 z를 제거\n",
    "a.pop('a')\n",
    "a.pop('z')\n",
    "\n",
    "#남은 딕셔너리 출력\n",
    "print(a)"
   ]
  },
  {
   "cell_type": "code",
   "execution_count": null,
   "metadata": {},
   "outputs": [],
   "source": []
  }
 ],
 "metadata": {
  "kernelspec": {
   "display_name": "Python 3",
   "language": "python",
   "name": "python3"
  },
  "language_info": {
   "codemirror_mode": {
    "name": "ipython",
    "version": 3
   },
   "file_extension": ".py",
   "mimetype": "text/x-python",
   "name": "python",
   "nbconvert_exporter": "python",
   "pygments_lexer": "ipython3",
   "version": "3.6.4"
  }
 },
 "nbformat": 4,
 "nbformat_minor": 2
}
