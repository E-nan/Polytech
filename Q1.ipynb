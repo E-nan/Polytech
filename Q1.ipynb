{
 "cells": [
  {
   "cell_type": "markdown",
   "metadata": {},
   "source": [
    "#문제 1번"
   ]
  },
  {
   "cell_type": "code",
   "execution_count": 1,
   "metadata": {},
   "outputs": [
    {
     "name": "stdout",
     "output_type": "stream",
     "text": [
      "['3', '27', '9']\n",
      "3 * 9 = 27\n"
     ]
    }
   ],
   "source": [
    "in_str = \"       3      27      9          \"\n",
    "a = in_str.split()#문자열 양쪽에 있는 한 칸 이상의 연속된 공백을 모두 지운다.\n",
    "print(a)          #잘 쪼개졋는지 확인\n",
    "first = a[0]      #0번째 값 -> first\n",
    "result = a[1]     #1번째 값 -> result\n",
    "second = a[2]     #2번째 값 -> second\n",
    "print(first+\" * \"+second+\" = \"+result)"
   ]
  },
  {
   "cell_type": "markdown",
   "metadata": {},
   "source": [
    "#문제 2번"
   ]
  },
  {
   "cell_type": "code",
   "execution_count": null,
   "metadata": {},
   "outputs": [],
   "source": [
    "#ㅠㅠ 너무 어렵게 생각한 코드 ord쓰면 되는데 이 생각을 못했습니다....\n",
    "ascii = \"abcdefghijklmnopqrstuvwxyz\"\n",
    "value=[]                 #아스키 코드값을 저장하기 위한 리스트\n",
    "for i in ascii:\n",
    "    value.append(ord(i)) #문자열 ascii에 저장된 값들을 아스키코드값으로 변환해 리스트에 저장\n",
    "a = ','                  #문자열 ascii를 ,을 기준으로 쪼개서 리스트로 만들기 위한 작업\n",
    "b = a.join(ascii)        #문자열 ascii를 ,을 기준으로 쪼개서 리스트로 만들기 위한 작업\n",
    "c = b.split(',')         #쪼갠 문자열을 c에 저장\n",
    "print(c)\n",
    "print(test)\n",
    "print(\"영문자 소문자 -> 아스키 코드 변환 프로그램\")\n",
    "print(\"입력 : a~z, 종료 : 0\")\n",
    "exit = 1\n",
    "#while exit = 0:\n",
    "eng = input(\"입력 : \")\n",
    "   # if eng in ascii:\n",
    "print(eng,\"의 아스키 코드 값은 : \",ord(eng))#이부분하다가 아차 싶었습니다 ㅋㅋ"
   ]
  },
  {
   "cell_type": "code",
   "execution_count": 3,
   "metadata": {},
   "outputs": [
    {
     "name": "stdout",
     "output_type": "stream",
     "text": [
      "영문자 소문자 -> 아스키 코드 변환 프로그램\n",
      "입력 : a~z, 종료 : 0\n",
      "입력 : 2\n",
      "영문자 소문자만 입력해주세요\n",
      "입력 : W\n",
      "영문자 소문자만 입력해주세요\n",
      "입력 : w\n",
      "w 의 아스키 코드 값은 :  119\n",
      "입력 : 0\n",
      "프로그램 종료\n"
     ]
    }
   ],
   "source": [
    "#다시만든 2번문제\n",
    "ascii = \"abcdefghijklmnopqrstuvwxyz\"\n",
    "print(\"영문자 소문자 -> 아스키 코드 변환 프로그램\")\n",
    "print(\"입력 : a~z, 종료 : 0\")\n",
    "exit = 1\n",
    "while exit == 1:                #while문은 조건이 참인동안 반복수행\n",
    "    eng = input(\"입력 : \")\n",
    "    if eng == '0':              #입력받은값이 0이면 프로그램 종료\n",
    "        print(\"프로그램 종료\")\n",
    "        exit=0\n",
    "    else:                       #입력받은값이 0이 아니면\n",
    "        if eng in ascii:        #입력받은값이 문자열 ascii에 있다면\n",
    "            print(eng,\"의 아스키 코드 값은 : \",ord(eng))\n",
    "        else:                   #입력받은값이 0도 아니고, ascii에도 없다면\n",
    "            print(\"영문자 소문자만 입력해주세요\")"
   ]
  },
  {
   "cell_type": "markdown",
   "metadata": {},
   "source": [
    "#문제 3번"
   ]
  },
  {
   "cell_type": "code",
   "execution_count": 13,
   "metadata": {},
   "outputs": [
    {
     "data": {
      "text/plain": [
       "{'0': 48, 'A': 65, 'Bel': 7, 'CR': 13, 'ESC': 27, 'a': 97}"
      ]
     },
     "execution_count": 13,
     "metadata": {},
     "output_type": "execute_result"
    }
   ],
   "source": [
    "ascii_list = ['Bel','CR','ESC','0','A','a']\n",
    "code_list = [7,13,27,48,65,97]\n",
    "dict(zip(ascii_list,code_list))              #zip을 이용해 딕셔너리 만들기\n",
    "#print(dict(zip(ascii_list,code_list)))      #print를 이용하면 순서가 리스트에 있는 그대로나오지만\n",
    "                                             #print를 하지 않으면 숫자>대문자>소문자 순으로 정렬되는듯"
   ]
  },
  {
   "cell_type": "code",
   "execution_count": null,
   "metadata": {},
   "outputs": [],
   "source": []
  }
 ],
 "metadata": {
  "kernelspec": {
   "display_name": "Python 3",
   "language": "python",
   "name": "python3"
  },
  "language_info": {
   "codemirror_mode": {
    "name": "ipython",
    "version": 3
   },
   "file_extension": ".py",
   "mimetype": "text/x-python",
   "name": "python",
   "nbconvert_exporter": "python",
   "pygments_lexer": "ipython3",
   "version": "3.6.4"
  }
 },
 "nbformat": 4,
 "nbformat_minor": 2
}
